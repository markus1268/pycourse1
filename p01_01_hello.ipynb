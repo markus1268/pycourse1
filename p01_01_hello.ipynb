{
 "cells": [
  {
   "cell_type": "markdown",
   "metadata": {},
   "source": [
    "## Introduction\n",
    "\n",
    "### A Sample Program\n",
    "\n",
    "Let's solve the following problem:\n",
    "\n",
    "> One morning, you go out and place a dollar bill on the sidewalk by the Sears tower in Chicago.\n",
    "> Each day thereafter, you go out double the number of bills.\n",
    "> How long does it take for the stack of bills to exceed the height of the tower?\n",
    "\n",
    "Here's a solution:"
   ]
  },
  {
   "cell_type": "code",
   "execution_count": null,
   "metadata": {},
   "outputs": [],
   "source": [
    "\"\"\" \n",
    "This is an example of Python Program\n",
    "\"\"\"\n",
    "# sears.py\n",
    "bill_thickness = 0.11 * 0.001 # Meters (0.11 mm)\n",
    "sears_height = 442 # Height (meters)\n",
    "num_bills = 1\n",
    "day = 1\n",
    "\n",
    "while num_bills * bill_thickness < sears_height:\n",
    "    print(day, num_bills, num_bills * bill_thickness)\n",
    "    day = day + 1\n",
    "    num_bills = num_bills * 2\n",
    "\n",
    "print('Number of days', day)\n",
    "print('Number of bills', num_bills)\n",
    "print('Final height', num_bills * bill_thickness)"
   ]
  },
  {
   "cell_type": "markdown",
   "metadata": {},
   "source": [
    "### Statements\n",
    "\n",
    "A python program is a sequence of statements:\n",
    "\n",
    "```python\n",
    "a = 3 + 4\n",
    "b = a * 2\n",
    "print(b)\n",
    "```\n",
    "\n",
    "Each statement is terminated by a newline. Statements are executed one after the other until control reaches the end of the file."
   ]
  },
  {
   "cell_type": "code",
   "execution_count": null,
   "metadata": {},
   "outputs": [],
   "source": [
    "a = 3 + 4\n",
    "b = a * 2\n",
    "print(b)"
   ]
  },
  {
   "cell_type": "markdown",
   "metadata": {},
   "source": [
    "### Comments\n",
    "\n",
    "Comments are text that will not be executed.\n",
    "\n",
    "```python\n",
    "a = 3 + 4\n",
    "# This is a comment\n",
    "b = a * 2\n",
    "print(b)\n",
    "```\n",
    "\n",
    "Comments are denoted by `#` and extend to the end of the line."
   ]
  },
  {
   "cell_type": "code",
   "execution_count": null,
   "metadata": {},
   "outputs": [],
   "source": [
    "a = 3 + 4\n",
    "# This is a comment\n",
    "b = a * 2\n",
    "print(b)"
   ]
  },
  {
   "cell_type": "markdown",
   "metadata": {},
   "source": [
    "### Variables\n",
    "\n",
    "A variable is a name for a value. You can use letters (lower and\n",
    "upper-case) from a to z. As well as the character underscore `_`.\n",
    "Numbers can also be part of the name of a variable, except as the\n",
    "first character.\n",
    "\n",
    "```python\n",
    "height = 442 # valid\n",
    "_height = 442 # valid\n",
    "height2 = 442 # valid\n",
    "2height = 442 # invalid\n",
    "```\n"
   ]
  },
  {
   "cell_type": "code",
   "execution_count": null,
   "metadata": {},
   "outputs": [],
   "source": [
    "height = 442 # valid\n",
    "_height = 442 # valid\n",
    "height2 = 442 # valid\n",
    "2height = 442 # invalid"
   ]
  },
  {
   "cell_type": "markdown",
   "metadata": {},
   "source": [
    "### Types\n",
    "\n",
    "Variables do not need to be declared with the type of the value.  The type\n",
    "is associated with the value on the right hand side, not name of the variable.\n",
    "\n",
    "```python\n",
    "height = 442           # An integer\n",
    "height = 442.0         # Floating point\n",
    "height = 'Really tall' # A string\n",
    "```\n",
    "\n",
    "Python is dynamically typed. The perceived \"type\" of a variable might change\n",
    "as a program executes depending on the current value assigned to it."
   ]
  },
  {
   "cell_type": "code",
   "execution_count": null,
   "metadata": {},
   "outputs": [],
   "source": [
    "height = 442           # An integer\n",
    "height = 442.0         # Floating point\n",
    "height = 'Really tall' # A string"
   ]
  },
  {
   "cell_type": "markdown",
   "metadata": {},
   "source": [
    "### Case Sensitivity\n",
    "\n",
    "Python is case sensitive. Upper and lower-case letters are considered different letters.\n",
    "These are all different variables:\n",
    "\n",
    "```python\n",
    "name = 'Jake'\n",
    "Name = 'Elwood'\n",
    "NAME = 'Guido'\n",
    "```\n",
    "\n",
    "Language statements are always lower-case.\n",
    "\n",
    "```python\n",
    "while x < 0:   # OK\n",
    "WHILE x < 0:   # ERROR\n",
    "```"
   ]
  },
  {
   "cell_type": "markdown",
   "metadata": {},
   "source": [
    "### Looping\n",
    "\n",
    "The `while` statement executes a loop.\n",
    "\n",
    "```python\n",
    "while num_bills * bill_thickness < sears_height:\n",
    "    print(day, num_bills, num_bills * bill_thickness)\n",
    "    day = day + 1\n",
    "    num_bills = num_bills * 2\n",
    "\n",
    "print('Number of days', day)\n",
    "```\n",
    "\n",
    "The statements indented below the `while` will execute as long as the expression after the `while` is `true`.\n"
   ]
  },
  {
   "cell_type": "markdown",
   "metadata": {},
   "source": [
    "### Indentation\n",
    "\n",
    "Indentation is used to denote groups of statements that go together.\n",
    "Consider the previous example:\n",
    "\n",
    "```python\n",
    "while num_bills * bill_thickness < sears_height:\n",
    "    print(day, num_bills, num_bills * bill_thickness)\n",
    "    day = day + 1\n",
    "    num_bills = num_bills * 2\n",
    "\n",
    "print('Number of days', day)\n",
    "```\n",
    "\n",
    "Indentation groups the following statements together as the operations that repeat:\n",
    "\n",
    "```python\n",
    "    print(day, num_bills, num_bills * bill_thickness)\n",
    "    day = day + 1\n",
    "    num_bills = num_bills * 2\n",
    "```\n",
    "\n",
    "Because the `print()` statement at the end is not indented, it\n",
    "does not belong to the loop. The empty line is just for\n",
    "readability. It does not affect the execution."
   ]
  },
  {
   "cell_type": "markdown",
   "metadata": {},
   "source": [
    "### Indentation best practices\n",
    "\n",
    "* Use spaces instead of tabs.\n",
    "* Use 4 spaces per level.\n",
    "* Use a Python-aware editor.\n",
    "\n",
    "Python's only requirement is that indentation within the same block\n",
    "be consistent.   For example, this is an error:\n",
    "\n",
    "```python\n",
    "while num_bills * bill_thickness < sears_height:\n",
    "    print(day, num_bills, num_bills * bill_thickness)\n",
    "        day = day + 1 # ERROR\n",
    "    num_bills = num_bills * 2\n",
    "```"
   ]
  },
  {
   "cell_type": "markdown",
   "metadata": {},
   "source": [
    "### Conditionals\n",
    "\n",
    "The `if` statement is used to execute a conditional:\n",
    "\n",
    "```python\n",
    "if a > b:\n",
    "    print('Computer says no')\n",
    "else:\n",
    "    print('Computer says yes')\n",
    "```\n",
    "\n",
    "You can check for multiple conditions by adding extra checks using `elif`.\n",
    "\n",
    "```python\n",
    "if a > b:\n",
    "    print('Computer says no')\n",
    "elif a == b:\n",
    "    print('Computer says yes')\n",
    "else:\n",
    "    print('Computer says maybe')\n",
    "```"
   ]
  },
  {
   "cell_type": "markdown",
   "metadata": {},
   "source": [
    "### Printing\n",
    "\n",
    "The `print` function produces a single line of text with the values passed.\n",
    "\n",
    "```python\n",
    "print('Hello world!') # Prints the text 'Hello world!'\n",
    "```\n",
    "\n",
    "You can use variables. The text printed will be the value of the variable, not the name.\n",
    "\n",
    "```python\n",
    "x = 100\n",
    "print(x) # Prints the text '100'\n",
    "```\n",
    "\n",
    "If you pass more than one value to `print` they are separated by spaces.\n",
    "\n",
    "```python\n",
    "name = 'Jake'\n",
    "print('My name is', name) # Print the text 'My name is Jake'\n",
    "```\n",
    "\n",
    "`print()` always puts a newline at the end.\n",
    "\n",
    "```python\n",
    "print('Hello')\n",
    "print('My name is', 'Jake')\n",
    "```\n",
    "\n",
    "This prints:\n",
    "\n",
    "```code\n",
    "Hello\n",
    "My name is Jake\n",
    "```\n",
    "\n",
    "The extra newline can be suppressed:\n",
    "\n",
    "```python\n",
    "print('Hello', end=' ')\n",
    "print('My name is', 'Jake')\n",
    "```\n",
    "\n",
    "This code will now print:\n",
    "\n",
    "```code\n",
    "Hello My name is Jake\n",
    "```"
   ]
  },
  {
   "cell_type": "markdown",
   "metadata": {},
   "source": [
    "### User input\n",
    "\n",
    "To read a line of typed user input, use the `input()` function:\n",
    "\n",
    "```python\n",
    "name = input('Enter your name:')\n",
    "print('Your name is', name)\n",
    "```\n",
    "\n",
    "`input` prints a prompt to the user and returns their response.\n",
    "This is useful for small programs, learning exercises or simple debugging.\n",
    "It is not widely used for real programs."
   ]
  },
  {
   "cell_type": "markdown",
   "metadata": {},
   "source": [
    "### pass statement\n",
    "\n",
    "Sometimes you need to specify an empty code block. The keyword `pass` is used for it.\n",
    "\n",
    "```python\n",
    "if a > b:\n",
    "    pass\n",
    "else:\n",
    "    print('Computer says false')\n",
    "```\n",
    "\n",
    "This is also called a \"no-op\" statement. It does nothing. It serves as a placeholder for statements, possibly to be added later."
   ]
  },
  {
   "cell_type": "markdown",
   "metadata": {},
   "source": [
    "## Exercise\n",
    "\n",
    "### Exercise 1.1a: The Bouncing Ball\n",
    "\n",
    "A rubber ball is dropped from a height of 100 meters and each time it\n",
    "hits the ground, it bounces back up to 3/5 the height it fell.  Write\n",
    "a program `bounce.py` that prints a table showing the height of the\n",
    "first 10 bounces.\n",
    "\n",
    "Your program should make a table that looks something like this:\n",
    "\n",
    "```code\n",
    "1 60.0\n",
    "2 36.0\n",
    "3 21.599999999999998\n",
    "4 12.959999999999999\n",
    "5 7.775999999999999\n",
    "6 4.6655999999999995\n",
    "7 2.7993599999999996\n",
    "8 1.6796159999999998\n",
    "9 1.0077695999999998\n",
    "10 0.6046617599999998\n",
    "```\n",
    "\n",
    "*Note: You can clean up the output a bit if you use the round() function. Try using it to round the output to 4 digits.*\n",
    "\n",
    "```code\n",
    "1 60.0\n",
    "2 36.0\n",
    "3 21.6\n",
    "4 12.96\n",
    "5 7.776\n",
    "6 4.6656\n",
    "7 2.7994\n",
    "8 1.6796\n",
    "9 1.0078\n",
    "10 0.6047\n",
    "```"
   ]
  },
  {
   "cell_type": "code",
   "execution_count": null,
   "metadata": {},
   "outputs": [],
   "source": [
    "# bounce.py"
   ]
  },
  {
   "cell_type": "markdown",
   "metadata": {},
   "source": [
    "### Exercise 1.1b: Debugging\n",
    "\n",
    "The following code fragment contains code from the Sears tower problem.  It also has a bug in it.\n",
    "\n",
    "```python\n",
    "# sears.py\n",
    "\n",
    "bill_thickness = 0.11 * 0.001    # Meters (0.11 mm)\n",
    "sears_height   = 442             # Height (meters)\n",
    "num_bills      = 1\n",
    "day            = 1\n",
    "\n",
    "while num_bills * bill_thickness < sears_height:\n",
    "    print(day, num_bills, num_bills * bill_thickness)\n",
    "    day = days + 1\n",
    "    num_bills = num_bills * 2\n",
    "\n",
    "print('Number of days', day)\n",
    "print('Number of bills', num_bills)\n",
    "print('Final height', num_bills * bill_thickness)\n",
    "```\n",
    "\n",
    "Copy and paste the code that appears above in a new program called `sears.py`.\n",
    "When you run the code you will get an error message that causes the\n",
    "program to crash like this:\n",
    "\n",
    "```code\n",
    "Traceback (most recent call last):\n",
    "  File \"sears.py\", line 10, in <module>\n",
    "    day = days + 1\n",
    "NameError: name 'days' is not defined\n",
    "```\n",
    "\n",
    "Reading error messages is an important part of Python code. If your program\n",
    "crashes, the very last line of the traceback message is the actual reason why the\n",
    "the program crashed. Above that, you should see a fragment of source code and then\n",
    "an identifying filename and line number.\n",
    "\n",
    "* Which line is the error?\n",
    "* What is the error?\n",
    "* Fix the error\n",
    "* Run the program successfully"
   ]
  },
  {
   "cell_type": "code",
   "execution_count": null,
   "metadata": {},
   "outputs": [],
   "source": [
    "# sears.py\n"
   ]
  }
 ],
 "metadata": {
  "kernelspec": {
   "display_name": "myenv",
   "language": "python",
   "name": "python3"
  },
  "language_info": {
   "codemirror_mode": {
    "name": "ipython",
    "version": 3
   },
   "file_extension": ".py",
   "mimetype": "text/x-python",
   "name": "python",
   "nbconvert_exporter": "python",
   "pygments_lexer": "ipython3",
   "version": "3.11.5"
  },
  "orig_nbformat": 4
 },
 "nbformat": 4,
 "nbformat_minor": 2
}
