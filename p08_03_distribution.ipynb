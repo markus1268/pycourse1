{
 "cells": [
  {
   "cell_type": "markdown",
   "metadata": {},
   "source": [
    "# 8.3 Distribution\n",
    "\n",
    "At some point you might want to give your code to someone else, possibly just a co-worker.\n",
    "This section gives the most basic technique of doing that.   For more detailed\n",
    "information, you'll need to consult the [Python Packaging User Guide](https://packaging.python.org)."
   ]
  },
  {
   "cell_type": "markdown",
   "metadata": {},
   "source": [
    "### Creating a setup.py file\n",
    "\n",
    "Add a `setup.py` file to the top-level of your project directory.\n",
    "\n",
    "```python\n",
    "# setup.py\n",
    "import setuptools\n",
    "\n",
    "setuptools.setup(\n",
    "    name=\"porty\",\n",
    "    version=\"0.0.1\",\n",
    "    author=\"Your Name\",\n",
    "    author_email=\"you@example.com\",\n",
    "    description=\"Practical Python Code\",\n",
    "    packages=setuptools.find_packages(),\n",
    ")\n",
    "```"
   ]
  },
  {
   "cell_type": "markdown",
   "metadata": {},
   "source": [
    "### Creating MANIFEST.in\n",
    "\n",
    "If there are additional files associated with your project, specify them with a `MANIFEST.in` file.\n",
    "For example:\n",
    "\n",
    "```\n",
    "# MANIFEST.in\n",
    "include *.csv\n",
    "```\n",
    "\n",
    "Put the `MANIFEST.in` file in the same directory as `setup.py`.\n"
   ]
  },
  {
   "cell_type": "markdown",
   "metadata": {},
   "source": [
    "### Creating a source distribution\n",
    "\n",
    "To create a distribution of your code, use the `setup.py` file.  For example:\n",
    "\n",
    "```\n",
    "bash % python setup.py sdist\n",
    "```\n",
    "\n",
    "This will create a `.tar.gz` or `.zip` file in the directory `dist/`.  That file is something\n",
    "that you can now give away to others."
   ]
  },
  {
   "cell_type": "markdown",
   "metadata": {},
   "source": [
    "### Installing your code\n",
    "\n",
    "Others can install your Python code using `pip` in the same way that they do for other\n",
    "packages.  They simply need to supply the file created in the previous step.\n",
    "For example:\n",
    "\n",
    "```\n",
    "bash % python -m pip install porty-0.0.1.tar.gz\n",
    "```"
   ]
  },
  {
   "cell_type": "markdown",
   "metadata": {},
   "source": [
    "### Commentary\n",
    "\n",
    "The steps above describe the absolute most minimal basics of creating\n",
    "a package of Python code that you can give to another person.  In\n",
    "reality, it can be much more complicated depending on third-party\n",
    "dependencies, whether or not your application includes foreign code\n",
    "(i.e., C/C++), and so forth.  Covering that is outside the scope of\n",
    "this course.  We've only taken a tiny first step."
   ]
  },
  {
   "cell_type": "markdown",
   "metadata": {},
   "source": [
    "## Exercises\n",
    "\n",
    "### Exercise 8.3a:  Make a package\n",
    "\n",
    "Take the `porty-app/` code you created for Exercise 9.3 and see if you\n",
    "can recreate the steps described here.  Specifically, add a `setup.py`\n",
    "file and a `MANIFEST.in` file to the top-level directory.\n",
    "Create a source distribution file by running `python setup.py sdist`.\n",
    "\n",
    "As a final step, see if you can install your package into a Python\n",
    "virtual environment.\n"
   ]
  }
 ],
 "metadata": {
  "kernelspec": {
   "display_name": "myenv",
   "language": "python",
   "name": "python3"
  },
  "language_info": {
   "name": "python",
   "version": "3.11.5"
  }
 },
 "nbformat": 4,
 "nbformat_minor": 2
}
