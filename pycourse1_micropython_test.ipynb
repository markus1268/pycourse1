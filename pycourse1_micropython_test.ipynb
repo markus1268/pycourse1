{
 "cells": [
  {
   "attachments": {},
   "cell_type": "markdown",
   "metadata": {},
   "source": [
    "## Python on Microcontroller\n",
    "Micropython on Raspberry Pi Pico"
   ]
  },
  {
   "cell_type": "code",
   "execution_count": null,
   "metadata": {
    "vscode": {
     "languageId": "python"
    }
   },
   "outputs": [],
   "source": [
    "%serialconnect --port=COM6"
   ]
  },
  {
   "cell_type": "code",
   "execution_count": null,
   "metadata": {
    "vscode": {
     "languageId": "python"
    }
   },
   "outputs": [],
   "source": [
    "import machine\n",
    "import utime\n",
    "\n",
    "led = machine.Pin(25, machine.Pin.OUT)\n",
    "while True:\n",
    "    led.value(1)\n",
    "    utime.sleep(0.5)\n",
    "    led.value(0)\n",
    "    utime.sleep(0.5)\n"
   ]
  },
  {
   "cell_type": "code",
   "execution_count": 29,
   "metadata": {
    "vscode": {
     "languageId": "python"
    }
   },
   "outputs": [
    {
     "name": "stdout",
     "output_type": "stream",
     "text": [
      "Temperature: 25.17182\n"
     ]
    }
   ],
   "source": [
    "import machine\n",
    "import utime\n",
    "\n",
    "sensor_temp = machine.ADC(4)\n",
    "conversion_factor = 3.3 / (65535)\n",
    "reading = sensor_temp.read_u16() * conversion_factor\n",
    "temperature = 27 - (reading - 0.706) / 0.001721\n",
    "print(f'Temperature: {temperature}')\n"
   ]
  }
 ],
 "metadata": {
  "kernelspec": {
   "display_name": "MicroPython - USB",
   "language": "micropython",
   "name": "micropython"
  },
  "language_info": {
   "codemirror_mode": "python",
   "file_extension": ".py",
   "mimetype": "text/python",
   "name": "micropython"
  },
  "orig_nbformat": 4
 },
 "nbformat": 4,
 "nbformat_minor": 2
}
