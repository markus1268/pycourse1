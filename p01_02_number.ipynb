{
 "cells": [
  {
   "cell_type": "markdown",
   "metadata": {},
   "source": [
    "## Number\n",
    "\n",
    "### Types of Numbers\n",
    "\n",
    "Python has 4 types of numbers:\n",
    "\n",
    "* Booleans\n",
    "* Integers\n",
    "* Floating point\n",
    "* Complex (imaginary numbers)"
   ]
  },
  {
   "cell_type": "markdown",
   "metadata": {},
   "source": [
    "### Booleans (bool)\n",
    "\n",
    "Booleans have two values: `True`, `False`.\n",
    "\n",
    "```python\n",
    "a = True\n",
    "b = False\n",
    "```\n",
    "\n",
    "Numerically, they're evaluated as integers with value `1`, `0`.\n",
    "\n",
    "```python\n",
    "c = 4 + True # 5\n",
    "d = False\n",
    "if d == 0:\n",
    "    print('d is False')\n",
    "```\n",
    "\n",
    "*But, don't write code like that. It would be odd.*"
   ]
  },
  {
   "cell_type": "code",
   "execution_count": null,
   "metadata": {},
   "outputs": [],
   "source": [
    "a = True\n",
    "b = False\n",
    "print('a = ', a)\n",
    "print('b = ', b)\n",
    "\n",
    "c = 4 + True\n",
    "print('c = ', c)\n",
    "d = False\n",
    "if d == 0:\n",
    "    print('d is False')"
   ]
  },
  {
   "cell_type": "markdown",
   "metadata": {},
   "source": [
    "### Integers (int)\n",
    "\n",
    "Signed values of arbitrary size and base:\n",
    "\n",
    "```python\n",
    "a = 37\n",
    "b = -299392993727716627377128481812241231\n",
    "c = 0x7fa8      # Hexadecimal\n",
    "d = 0o253       # Octal\n",
    "e = 0b10001111  # Binary\n",
    "```\n",
    "\n",
    "Common operations:\n",
    "\n",
    "```\n",
    "x + y      Add\n",
    "x - y      Subtract\n",
    "x * y      Multiply\n",
    "x / y      Divide (produces a float)\n",
    "x // y     Floor Divide (produces an integer)\n",
    "x % y      Modulo (remainder)\n",
    "x ** y     Power\n",
    "x << n     Bit shift left\n",
    "x >> n     Bit shift right\n",
    "x & y      Bit-wise AND\n",
    "x | y      Bit-wise OR\n",
    "x ^ y      Bit-wise XOR\n",
    "~x         Bit-wise NOT\n",
    "abs(x)     Absolute value\n",
    "```"
   ]
  },
  {
   "cell_type": "code",
   "execution_count": null,
   "metadata": {},
   "outputs": [],
   "source": []
  },
  {
   "cell_type": "markdown",
   "metadata": {},
   "source": [
    "### Floating point (float)\n",
    "\n",
    "Use a decimal or exponential notation to specify a floating point value:\n",
    "\n",
    "```python\n",
    "a = 37.45\n",
    "b = 4e5 # 4 x 10**5 or 400,000\n",
    "c = -1.345e-10\n",
    "```\n",
    "\n",
    "Floats are represented as double precision using the native CPU representation [IEEE 754](https://en.wikipedia.org/wiki/IEEE_754).\n",
    "This is the same as the `double` type in the programming language C.\n",
    "\n",
    "> 17 digits of precision  \n",
    "> Exponent from -308 to 308\n",
    "\n",
    "Be aware that floating point numbers are inexact when representing decimals.\n",
    "\n",
    "```python\n",
    ">>> a = 2.1 + 4.2\n",
    ">>> a == 6.3\n",
    "False\n",
    ">>> a\n",
    "6.300000000000001\n",
    ">>>\n",
    "```\n",
    "\n",
    "This is **not a Python issue**, but the underlying floating point hardware on the CPU.\n",
    "\n",
    "Common Operations:\n",
    "\n",
    "```\n",
    "x + y      Add\n",
    "x - y      Subtract\n",
    "x * y      Multiply\n",
    "x / y      Divide\n",
    "x // y     Floor Divide\n",
    "x % y      Modulo\n",
    "x ** y     Power\n",
    "abs(x)     Absolute Value\n",
    "```\n",
    "\n",
    "These are the same operators as Integers, except for the bit-wise operators.\n",
    "Additional math functions are found in the `math` module.\n",
    "\n",
    "```python\n",
    "import math\n",
    "a = math.sqrt(x)\n",
    "b = math.sin(x)\n",
    "c = math.cos(x)\n",
    "d = math.tan(x)\n",
    "e = math.log(x)\n",
    "```"
   ]
  },
  {
   "cell_type": "code",
   "execution_count": null,
   "metadata": {},
   "outputs": [],
   "source": []
  },
  {
   "cell_type": "markdown",
   "metadata": {},
   "source": [
    "### Comparisons\n",
    "\n",
    "The following comparison / relational operators work with numbers:\n",
    "\n",
    "```\n",
    "x < y      Less than\n",
    "x <= y     Less than or equal\n",
    "x > y      Greater than\n",
    "x >= y     Greater than or equal\n",
    "x == y     Equal to\n",
    "x != y     Not equal to\n",
    "```\n",
    "\n",
    "You can form more complex boolean expressions using\n",
    "\n",
    "`and`, `or`, `not`\n",
    "\n",
    "Here are a few examples:\n",
    "\n",
    "```python\n",
    "if b >= a and b <= c:\n",
    "    print('b is between a and c')\n",
    "\n",
    "if not (b < a or b > c):\n",
    "    print('b is still between a and c')\n",
    "```"
   ]
  },
  {
   "cell_type": "code",
   "execution_count": null,
   "metadata": {},
   "outputs": [],
   "source": []
  },
  {
   "cell_type": "markdown",
   "metadata": {},
   "source": [
    "### Converting Numbers\n",
    "\n",
    "The type name can be used to convert values:\n",
    "\n",
    "```python\n",
    "a = int(x)    # Convert x to integer\n",
    "b = float(x)  # Convert x to float\n",
    "```\n",
    "\n",
    "Try it out.\n",
    "\n",
    "```python\n",
    ">>> a = 3.14159\n",
    ">>> int(a)\n",
    "3\n",
    ">>> b = '3.14159' # It also works with strings containing numbers\n",
    ">>> float(b)\n",
    "3.14159\n",
    ">>>\n",
    "```"
   ]
  },
  {
   "cell_type": "code",
   "execution_count": null,
   "metadata": {},
   "outputs": [],
   "source": []
  },
  {
   "cell_type": "markdown",
   "metadata": {},
   "source": [
    "## Exercises\n",
    "\n",
    "### Exercise 1.2a: Dave's mortgage\n",
    "\n",
    "Dave has decided to take out a 30-year fixed rate mortgage of $500,000\n",
    "with Guido’s Mortgage, Stock Investment, and Bitcoin trading\n",
    "corporation.  The interest rate is 5% and the monthly payment is\n",
    "$2684.11.\n",
    "\n",
    "Here is a program that calculates the total amount that Dave will have\n",
    "to pay over the life of the mortgage:\n",
    "\n",
    "```python\n",
    "# mortgage.py\n",
    "\n",
    "principal = 500000.0\n",
    "rate = 0.05\n",
    "payment = 2684.11\n",
    "total_paid = 0.0\n",
    "\n",
    "while principal > 0:\n",
    "    principal = principal * (1+rate/12) - payment\n",
    "    total_paid = total_paid + payment\n",
    "\n",
    "print('Total paid', total_paid)\n",
    "```\n",
    "\n",
    "Enter this program and run it. You should get an answer of `966,279.6`."
   ]
  },
  {
   "cell_type": "code",
   "execution_count": null,
   "metadata": {},
   "outputs": [],
   "source": [
    "# mortgage.py\n"
   ]
  },
  {
   "cell_type": "markdown",
   "metadata": {},
   "source": [
    "### Exercise 1.2b: Extra payments\n",
    "\n",
    "Suppose Dave pays an extra $1000/month for the first 12 months of the mortgage?\n",
    "\n",
    "Modify the program to incorporate this extra payment and have it print the total amount paid along with the number of months required.\n",
    "\n",
    "When you run the new program, it should report a total payment of `929,965.62` over 342 months."
   ]
  },
  {
   "cell_type": "code",
   "execution_count": null,
   "metadata": {},
   "outputs": [],
   "source": []
  },
  {
   "cell_type": "markdown",
   "metadata": {},
   "source": [
    "### Exercise 1.2c: Making an Extra Payment Calculator\n",
    "\n",
    "Modify the program so that extra payment information can be more generally handled.\n",
    "Make it so that the user can set these variables:\n",
    "\n",
    "```python\n",
    "extra_payment_start_month = 61\n",
    "extra_payment_end_month = 108\n",
    "extra_payment = 1000\n",
    "```\n",
    "\n",
    "Make the program look at these variables and calculate the total paid appropriately.\n",
    "\n",
    "How much will Dave pay if he pays an extra $1000/month for 4 years starting after the first\n",
    "five years have already been paid?"
   ]
  },
  {
   "cell_type": "code",
   "execution_count": null,
   "metadata": {},
   "outputs": [],
   "source": []
  },
  {
   "cell_type": "markdown",
   "metadata": {},
   "source": [
    "### Exercise 1.2d: Making a table\n",
    "\n",
    "Modify the program to print out a table showing the month, total paid so far, and the remaining principal.\n",
    "The output should look something like this:\n",
    "\n",
    "```bash\n",
    "1 2684.11 499399.22\n",
    "2 5368.22 498795.94\n",
    "3 8052.33 498190.15\n",
    "4 10736.44 497581.83\n",
    "5 13420.55 496970.98\n",
    "...\n",
    "308 874705.88 3478.83\n",
    "309 877389.99 809.21\n",
    "310 880074.1 -1871.53\n",
    "Total paid 880074.1\n",
    "Months 310\n",
    "```\n"
   ]
  },
  {
   "cell_type": "code",
   "execution_count": null,
   "metadata": {},
   "outputs": [],
   "source": []
  },
  {
   "cell_type": "markdown",
   "metadata": {},
   "source": [
    "### Exercise 1.2e: Bonus\n",
    "\n",
    "While you’re at it, fix the program to correct for the overpayment that occurs in the last month."
   ]
  },
  {
   "cell_type": "code",
   "execution_count": null,
   "metadata": {},
   "outputs": [],
   "source": []
  },
  {
   "cell_type": "markdown",
   "metadata": {},
   "source": [
    "### Exercise 1.2f: A Mystery\n",
    "\n",
    "`int()` and `float()` can be used to convert numbers.  For example,\n",
    "\n",
    "```python\n",
    ">>> int(\"123\")\n",
    "123\n",
    ">>> float(\"1.23\")\n",
    "1.23\n",
    ">>>\n",
    "```\n",
    "\n",
    "With that in mind, can you explain this behavior?\n",
    "\n",
    "```python\n",
    ">>> bool(\"False\")\n",
    "True\n",
    ">>>\n",
    "```"
   ]
  }
 ],
 "metadata": {
  "kernelspec": {
   "display_name": "myenv",
   "language": "python",
   "name": "python3"
  },
  "language_info": {
   "codemirror_mode": {
    "name": "ipython",
    "version": 3
   },
   "file_extension": ".py",
   "mimetype": "text/x-python",
   "name": "python",
   "nbconvert_exporter": "python",
   "pygments_lexer": "ipython3",
   "version": "3.11.5"
  }
 },
 "nbformat": 4,
 "nbformat_minor": 2
}
