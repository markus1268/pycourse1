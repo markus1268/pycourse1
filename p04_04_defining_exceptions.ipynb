{
 "cells": [
  {
   "cell_type": "markdown",
   "metadata": {},
   "source": [
    "# 4.4 Defining Exceptions\n",
    "\n",
    "User defined exceptions are defined by classes.\n",
    "\n",
    "```python\n",
    "class NetworkError(Exception):\n",
    "    pass\n",
    "```\n",
    "\n",
    "**Exceptions always inherit from `Exception`.**\n",
    "\n",
    "Usually they are empty classes. Use `pass` for the body.\n",
    "\n",
    "You can also make a hierarchy of your exceptions.\n",
    "\n",
    "```python\n",
    "class AuthenticationError(NetworkError):\n",
    "     pass\n",
    "\n",
    "class ProtocolError(NetworkError):\n",
    "    pass\n",
    "```"
   ]
  },
  {
   "cell_type": "markdown",
   "metadata": {},
   "source": [
    "## Exercises\n",
    "\n",
    "### Exercise 4.4a: Defining a custom exception\n",
    "\n",
    "It is often good practice for libraries to define their own exceptions.\n",
    "\n",
    "This makes it easier to distinguish between Python exceptions raised\n",
    "in response to common programming errors versus exceptions\n",
    "intentionally raised by a library to a signal a specific usage\n",
    "problem.\n",
    "\n",
    "Modify the `create_formatter()` function from the last exercise so\n",
    "that it raises a custom `FormatError` exception when the user provides\n",
    "a bad format name.\n",
    "\n",
    "For example:\n",
    "\n",
    "```python\n",
    ">>> from tableformat import create_formatter\n",
    ">>> formatter = create_formatter('xls')\n",
    "Traceback (most recent call last):\n",
    "  File \"<stdin>\", line 1, in <module>\n",
    "  File \"tableformat.py\", line 71, in create_formatter\n",
    "    raise FormatError('Unknown table format %s' % name)\n",
    "FormatError: Unknown table format xls\n",
    ">>>\n",
    "```\n"
   ]
  }
 ],
 "metadata": {
  "kernelspec": {
   "display_name": "myenv",
   "language": "python",
   "name": "python3"
  },
  "language_info": {
   "name": "python",
   "version": "3.11.5"
  }
 },
 "nbformat": 4,
 "nbformat_minor": 2
}
