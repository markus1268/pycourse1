{
 "cells": [
  {
   "attachments": {},
   "cell_type": "markdown",
   "metadata": {},
   "source": [
    "## Circuitpython on RP2040 (VCC-GND Board)\n",
    "<div align=\"center\">\n",
    "    <img src=\"image/rp2040_vccgnd.jpg\" alt=\"RP2040\" width=\"60%\" height=\"60%\" title=\"RP2040\">\n",
    "</div>\n",
    "\n"
   ]
  },
  {
   "cell_type": "code",
   "execution_count": null,
   "metadata": {},
   "outputs": [],
   "source": [
    "# Test the connection between circuitpython kernel and board\n",
    "import os\n",
    "print(os.uname())"
   ]
  },
  {
   "cell_type": "code",
   "execution_count": null,
   "metadata": {},
   "outputs": [],
   "source": [
    "\"\"\"Lets code the onboard neopixel\"\"\"\n",
    "# Board Initialization\n",
    "import time\n",
    "import board\n",
    "import digitalio\n",
    "from rainbowio import colorwheel\n",
    "import neopixel\n",
    "\n",
    "# Turn on default Blue LED\n",
    "cpx_led = digitalio.DigitalInOut(board.LED)\n",
    "cpx_led.direction = digitalio.Direction.OUTPUT\n",
    "cpx_led.value = True\n",
    "\n",
    "# Init the onboard neopixel\n",
    "num_pixels = 1\n",
    "pixels = neopixel.NeoPixel(board.GP23, num_pixels, auto_write = False)\n",
    "pixels.brightness = 0.1\n",
    "\n",
    "def rainbow(speed):\n",
    "    for j in range(255):\n",
    "        pixels[0] = colorwheel(j)\n",
    "        pixels.show()\n",
    "        time.sleep(speed)\t"
   ]
  },
  {
   "cell_type": "code",
   "execution_count": null,
   "metadata": {},
   "outputs": [],
   "source": [
    "# Lets do some magic!\n",
    "rainbow(0.05)"
   ]
  }
 ],
 "metadata": {
  "kernelspec": {
   "display_name": "CircuitPython",
   "language": "python",
   "name": "circuitpython"
  },
  "language_info": {
   "codemirror_mode": {
    "name": "python",
    "version": 3
   },
   "file_extension": ".py",
   "mimetype": "text/x-python",
   "name": "python",
   "pygments_lexer": "python3",
   "version": "3"
  }
 },
 "nbformat": 4,
 "nbformat_minor": 2
}
