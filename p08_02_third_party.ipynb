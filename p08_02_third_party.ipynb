{
 "cells": [
  {
   "cell_type": "markdown",
   "metadata": {},
   "source": [
    "# 8.2 Third Party Modules\n",
    "\n",
    "Python has a large library of built-in modules (*batteries included*).\n",
    "\n",
    "There are even more third party modules. Check them in the [Python Package Index](https://pypi.org/) or PyPi.\n",
    "Or just do a Google search for a specific topic.\n",
    "\n",
    "How to handle third-party dependencies is an ever-evolving topic with\n",
    "Python.  This section merely covers the basics to help you wrap\n",
    "your brain around how it works.\n"
   ]
  },
  {
   "cell_type": "markdown",
   "metadata": {},
   "source": [
    "### The Module Search Path\n",
    "\n",
    "`sys.path` is a directory that contains the list of all directories\n",
    "checked by the `import` statement. Look at it:\n",
    "\n",
    "```python\n",
    ">>> import sys\n",
    ">>> sys.path\n",
    "... look at the result ...\n",
    ">>>\n",
    "```\n",
    "\n",
    "If you import something and it's not located in one of those\n",
    "directories, you will get an `ImportError` exception."
   ]
  },
  {
   "cell_type": "markdown",
   "metadata": {},
   "source": [
    "### Standard Library Modules\n",
    "\n",
    "Modules from Python's standard library usually come from a location\n",
    "such as `/usr/local/lib/python3.6'.  You can find out for certain\n",
    "by trying a short test:\n",
    "\n",
    "```python\n",
    ">>> import re\n",
    ">>> re\n",
    "<module 're' from '/usr/local/lib/python3.6/re.py'>\n",
    ">>>\n",
    "```\n",
    "\n",
    "Simply looking at a module in the REPL is a good debugging tip\n",
    "to know about.  It will show you the location of the file."
   ]
  },
  {
   "cell_type": "markdown",
   "metadata": {},
   "source": [
    "### Third-party Modules\n",
    "\n",
    "Third party modules are usually located in a dedicated\n",
    "`site-packages` directory.   You'll see it if you perform\n",
    "the same steps as above:\n",
    "\n",
    "```python\n",
    ">>> import numpy\n",
    ">>> numpy\n",
    "<module 'numpy' from '/usr/local/lib/python3.6/site-packages/numpy/__init__.py'>\n",
    ">>>\n",
    "```\n",
    "\n",
    "Again, looking at a module is a good debugging tip if you're\n",
    "trying to figure out why something related to `import` isn't working\n",
    "as expected."
   ]
  },
  {
   "cell_type": "markdown",
   "metadata": {},
   "source": [
    "### Installing Modules\n",
    "\n",
    "The most common technique for installing a third-party module is to use\n",
    "`pip`.  For example:\n",
    "\n",
    "```bash\n",
    "bash % python3 -m pip install packagename\n",
    "```\n",
    "\n",
    "This command will download the package and install it in the `site-packages`\n",
    "directory."
   ]
  },
  {
   "cell_type": "markdown",
   "metadata": {},
   "source": [
    "### Problems\n",
    "\n",
    "* You may be using an installation of Python that you don't directly control.\n",
    "  * A corporate approved installation\n",
    "  * You're using the Python version that comes with the OS.\n",
    "* You might not have permission to install global packages in the computer.\n",
    "* There might be other dependencies.\n"
   ]
  },
  {
   "cell_type": "markdown",
   "metadata": {},
   "source": [
    "### Virtual Environments\n",
    "\n",
    "A common solution to package installation issues is to create a\n",
    "so-called \"virtual environment\" for yourself.  Naturally, there is no\n",
    "\"one way\" to do this--in fact, there are several competing tools and\n",
    "techniques.  However, if you are using a standard Python installation,\n",
    "you can try typing this:\n",
    "\n",
    "```bash\n",
    "bash % python -m venv mypython\n",
    "bash %\n",
    "```\n",
    "\n",
    "After a few moments of waiting, you will have a new directory\n",
    "`mypython` that's your own little Python install.  Within that\n",
    "directory you'll find a `bin/` directory (Unix) or a `Scripts/`\n",
    "directory (Windows).  If you run the `activate` script found there, it\n",
    "will \"activate\" this version of Python, making it the default `python`\n",
    "command for the shell.  For example:\n",
    "\n",
    "```bash\n",
    "bash % source mypython/bin/activate\n",
    "(mypython) bash %\n",
    "```\n",
    "\n",
    "From here, you can now start installing Python packages for yourself.\n",
    "For example:\n",
    "\n",
    "```\n",
    "(mypython) bash % python -m pip install pandas\n",
    "...\n",
    "```\n",
    "\n",
    "For the purposes of experimenting and trying out different\n",
    "packages, a virtual environment will usually work fine.  If,\n",
    "on the other hand, you're creating an application and it\n",
    "has specific package dependencies, that is a slightly\n",
    "different problem."
   ]
  },
  {
   "cell_type": "markdown",
   "metadata": {},
   "source": [
    "### Handling Third-Party Dependencies in Your Application\n",
    "\n",
    "If you have written an application and it has specific third-party\n",
    "dependencies, one challenge concerns the creation and preservation of\n",
    "the environment that includes your code and the dependencies.  Sadly,\n",
    "this has been an area of great confusion and frequent change over\n",
    "Python's lifetime.  It continues to evolve even now.\n",
    "\n",
    "Rather than provide information that's bound to be out of date soon,\n",
    "I refer you to the [Python Packaging User Guide](https://packaging.python.org)."
   ]
  },
  {
   "cell_type": "markdown",
   "metadata": {},
   "source": [
    "## Exercises\n",
    "\n",
    "### Exercise 8.2a : Creating a Virtual Environment\n",
    "\n",
    "See if you can recreate the steps of making a virtual environment and installing\n",
    "pandas into it as shown above.\n"
   ]
  }
 ],
 "metadata": {
  "language_info": {
   "name": "python"
  }
 },
 "nbformat": 4,
 "nbformat_minor": 2
}
